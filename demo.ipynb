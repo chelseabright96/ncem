{
 "cells": [
  {
   "cell_type": "code",
   "execution_count": 4,
   "metadata": {},
   "outputs": [],
   "source": [
    "from ncem.torch_data.datasets.hartmann import Hartmann "
   ]
  },
  {
   "cell_type": "code",
   "execution_count": 7,
   "id": "878b42f7",
   "metadata": {},
   "outputs": [],
   "source": [
    "dataset = Hartmann('example_data/hartmann')"
   ]
  },
  {
   "cell_type": "code",
   "execution_count": 9,
   "id": "62d81d88",
   "metadata": {},
   "outputs": [],
   "source": [
    "sample = dataset[0]"
   ]
  },
  {
   "cell_type": "code",
   "execution_count": 11,
   "id": "c7e9a045",
   "metadata": {},
   "outputs": [
    {
     "data": {
      "text/plain": [
       "Data(edge_index=[2, 6636], scale_factor=[1338], cell_type=[1338, 8], gene_expression=[1338, 36], domain=[58], transform_done=False, num_nodes=1338)"
      ]
     },
     "execution_count": 11,
     "metadata": {},
     "output_type": "execute_result"
    }
   ],
   "source": [
    "sample"
   ]
  },
  {
   "cell_type": "code",
   "execution_count": 13,
   "id": "e5dad399",
   "metadata": {},
   "outputs": [
    {
     "data": {
      "text/plain": [
       "tensor([[0., 0., 0.,  ..., 0., 0., 1.],\n",
       "        [0., 1., 0.,  ..., 0., 0., 0.],\n",
       "        [0., 0., 0.,  ..., 0., 0., 1.],\n",
       "        ...,\n",
       "        [0., 0., 0.,  ..., 0., 1., 0.],\n",
       "        [0., 0., 0.,  ..., 0., 0., 1.],\n",
       "        [0., 0., 0.,  ..., 0., 0., 1.]])"
      ]
     },
     "execution_count": 13,
     "metadata": {},
     "output_type": "execute_result"
    }
   ],
   "source": [
    "sample.cell_type"
   ]
  },
  {
   "cell_type": "code",
   "execution_count": 14,
   "id": "3c8845f9",
   "metadata": {},
   "outputs": [
    {
     "data": {
      "text/plain": [
       "tensor([[0.7355, 0.7456, 0.4415,  ..., 0.0000, 0.0000, 0.0000],\n",
       "        [0.7874, 0.5682, 0.4857,  ..., 0.0000, 0.0000, 0.0000],\n",
       "        [0.8776, 0.4147, 0.3980,  ..., 0.0000, 0.0000, 0.0000],\n",
       "        ...,\n",
       "        [0.7148, 0.6725, 0.7383,  ..., 0.0000, 0.2577, 0.0000],\n",
       "        [0.8049, 0.6302, 0.3850,  ..., 0.0000, 0.0000, 0.5471],\n",
       "        [0.9074, 0.5267, 0.5135,  ..., 0.0000, 0.3745, 0.0000]])"
      ]
     },
     "execution_count": 14,
     "metadata": {},
     "output_type": "execute_result"
    }
   ],
   "source": [
    "sample.gene_expression"
   ]
  },
  {
   "cell_type": "code",
   "execution_count": null,
   "id": "534487ff",
   "metadata": {},
   "outputs": [],
   "source": []
  }
 ],
 "metadata": {
  "kernelspec": {
   "display_name": "Python 3.8.13 ('ncem')",
   "language": "python",
   "name": "python3"
  },
  "language_info": {
   "codemirror_mode": {
    "name": "ipython",
    "version": 3
   },
   "file_extension": ".py",
   "mimetype": "text/x-python",
   "name": "python",
   "nbconvert_exporter": "python",
   "pygments_lexer": "ipython3",
   "version": "3.8.13"
  },
  "vscode": {
   "interpreter": {
    "hash": "a2d03c6a34750e60d8dd9ca1a6ee0965fb69595564131e0d0a03d064a4a81ea0"
   }
  }
 },
 "nbformat": 4,
 "nbformat_minor": 5
}
