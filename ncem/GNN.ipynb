{
 "cells": [
  {
   "cell_type": "code",
   "execution_count": 1,
   "metadata": {},
   "outputs": [],
   "source": [
    "import scanpy as sc\n",
    "import squidpy as sq"
   ]
  },
  {
   "cell_type": "markdown",
   "metadata": {},
   "source": [
    "Dataset with 1 image"
   ]
  },
  {
   "cell_type": "code",
   "execution_count": 50,
   "metadata": {},
   "outputs": [],
   "source": [
    "#Load dataset \n",
    "adata = sq.datasets.imc()"
   ]
  },
  {
   "cell_type": "code",
   "execution_count": 27,
   "metadata": {},
   "outputs": [
    {
     "data": {
      "text/plain": [
       "(4668, 34)"
      ]
     },
     "execution_count": 27,
     "metadata": {},
     "output_type": "execute_result"
    }
   ],
   "source": [
    "adata.X.shape"
   ]
  },
  {
   "cell_type": "code",
   "execution_count": 51,
   "metadata": {},
   "outputs": [
    {
     "data": {
      "image/png": "[encoded data removed]",
      "text/plain": [
       "<Figure size 432x288 with 1 Axes>"
      ]
     },
     "metadata": {},
     "output_type": "display_data"
    }
   ],
   "source": [
    "#Sample nodes from training data \n",
    "import numpy as np\n",
    "randint=np.random.randint(0,adata.n_obs+1)\n",
    "sq.gr.spatial_neighbors(adata, coord_type=\"generic\")\n",
    "_, idx = adata.obsp[\"spatial_connectivities\"][randint, :].nonzero()\n",
    "idx = np.append(idx, randint)\n",
    "sc.pl.spatial(\n",
    "    adata[idx, :],\n",
    "    color=\"cell type\",\n",
    "    neighbors_key=\"spatial_neighbors\",\n",
    "    spot_size=1,\n",
    "    edges=True,\n",
    "    edges_width=1,\n",
    "    img_key=None,\n",
    ")"
   ]
  },
  {
   "cell_type": "code",
   "execution_count": 52,
   "metadata": {},
   "outputs": [],
   "source": [
    "#Get adjacency matrix\n",
    "A=adata.obsp['spatial_connectivities']"
   ]
  },
  {
   "cell_type": "code",
   "execution_count": 53,
   "metadata": {},
   "outputs": [],
   "source": [
    "#Get edge index\n",
    "indices=A.nonzero()\n",
    "edge_index=torch.tensor(np.array(indices))"
   ]
  },
  {
   "cell_type": "code",
   "execution_count": 54,
   "metadata": {},
   "outputs": [],
   "source": [
    "#Get features of nodes \n",
    "import pandas as pd\n",
    "X=adata.obs\n",
    "X=pd.get_dummies(X)\n",
    "X=X.to_numpy()"
   ]
  },
  {
   "cell_type": "code",
   "execution_count": 91,
   "metadata": {},
   "outputs": [
    {
     "data": {
      "text/plain": [
       "(4668, 11)"
      ]
     },
     "execution_count": 91,
     "metadata": {},
     "output_type": "execute_result"
    }
   ],
   "source": [
    "X.shape"
   ]
  },
  {
   "cell_type": "code",
   "execution_count": 55,
   "metadata": {},
   "outputs": [],
   "source": [
    "#Get labels of nodes\n",
    "Y=adata.X\n"
   ]
  },
  {
   "cell_type": "code",
   "execution_count": 119,
   "metadata": {},
   "outputs": [],
   "source": [
    "#Sample n nodes + 1-neighbour and save individual graphs in files (iterate over all nodes)\n",
    "\n",
    "n=200\n",
    "no_batches=adata.n_obs//200\n",
    "for batch in range(no_batches):\n",
    "    indices=np.random.choice(adata.n_obs, size=200)\n",
    "    #get features and labels of selected nodes\n",
    "    X_s=X[indices]\n",
    "    Y_s=Y[indices]\n",
    "\n",
    "    #get node indices of direct neighbours (Output: list of length n)\n",
    "    neigh_ind=[]\n",
    "    neigh_max=0\n",
    "    for index in indices:\n",
    "        neigh_ind.append(A[index].nonzero()[1])\n",
    "        neigh_max=max(neigh_max,len(A[index].nonzero()[0]))\n",
    "\n",
    "    #Use neigh_ind to get features of all neighbours of each sampled node (Output array n x neighbours[padded] x features)\n",
    "    \n",
    "    #How to do this?\n",
    "    #Do we want output array: For batch i: no. node samples x neighbours[padded] x features (e.g.200 x max_neighs x no features)\n",
    "    \n",
    "    '''X_neigh_all = []\n",
    "    for index in range(n):\n",
    "        X_neigh=np.zeros([neigh_max,X.shape[1]])\n",
    "        for i in \n",
    "        for i, neigh in (range(neigh_max),neigh_ind[index]):\n",
    "            X_neigh[i]=X[neigh]\n",
    "        X_neigh_all.append(X_neigh)'''\n"
   ]
  },
  {
   "cell_type": "markdown",
   "metadata": {},
   "source": [
    "Create Pytorch Geometric dataset"
   ]
  },
  {
   "cell_type": "code",
   "execution_count": null,
   "metadata": {},
   "outputs": [],
   "source": [
    "#Create PyG dataset from graphs saved in files\n",
    "from torch_geometric.data import Dataset, Data\n",
    "class MyCustomDataset(Dataset):\n",
    "    def __init__():\n",
    "        self.filename = .. # List of raw files, in your case point cloud\n",
    "        super(MyCustomDataset, self).__init()\n",
    "\n",
    "    @property\n",
    "    def raw_file_names(self):\n",
    "        return self.filename\n",
    "    \n",
    "    @property\n",
    "    def processed_file_names(self):\n",
    "        \"\"\" return list of files should be in processed dir, if found - skip processing.\"\"\"\n",
    "        processed_filename = []\n",
    "        return processed_filename\n",
    "    def download(self):\n",
    "        pass\n",
    "\n",
    "    def process(self):\n",
    "        for file in self.raw_paths:\n",
    "            self._process_one_step(file)\n",
    "\n",
    "    def _process_one_step(self, path):\n",
    "        out_path = (self.processed_dir, \"some_unique_filename.pt\")\n",
    "        # read your point cloud here, \n",
    "        # convert point cloud to Data object\n",
    "        data = Data(x=node_features,\n",
    "                    edge_index=edge_index,\n",
    "                    edge_attr=edge_attr,\n",
    "                    y=label #you can add more arguments as you like\n",
    "                    )\n",
    "        torch.save(data, out_path)\n",
    "        return\n",
    "\n",
    "    def __len__(self):\n",
    "        return len(self.processed_file_names)\n",
    "\n",
    "    def __getitem__(self, idx):\n",
    "        data = torch.load(os.path.join(self.processed_dir, self.processed_file_names[idx]))\n",
    "        return data"
   ]
  },
  {
   "cell_type": "code",
   "execution_count": 68,
   "metadata": {},
   "outputs": [],
   "source": [
    "#Sample n nodes and save individual graphs in files (iterate over all nodes)\n",
    "import torch\n",
    "from torch_geometric.data import Data\n",
    "\n",
    "x = torch.tensor(X, dtype=torch.float)\n",
    "\n",
    "data=Data(x=x, edge_index=edge_index)\n",
    "\n",
    "\n",
    "    \n",
    "\n"
   ]
  },
  {
   "cell_type": "code",
   "execution_count": 70,
   "metadata": {},
   "outputs": [
    {
     "data": {
      "text/plain": [
       "Data(x=[4668, 11], edge_index=[2, 28008])"
      ]
     },
     "execution_count": 70,
     "metadata": {},
     "output_type": "execute_result"
    }
   ],
   "source": [
    "data"
   ]
  },
  {
   "cell_type": "code",
   "execution_count": 72,
   "metadata": {},
   "outputs": [],
   "source": [
    "P=np.array([[0,1,1,1],[1,0,1,0],[1,1,0,0],[1,0,0,0]])"
   ]
  },
  {
   "cell_type": "code",
   "execution_count": 87,
   "metadata": {},
   "outputs": [],
   "source": [
    "indices =[0,1]\n",
    "neigh_ind=[]\n",
    "for index in indices:\n",
    "    neigh_ind.append(P[index].nonzero()[0])"
   ]
  },
  {
   "cell_type": "code",
   "execution_count": 88,
   "metadata": {},
   "outputs": [
    {
     "data": {
      "text/plain": [
       "[array([1, 2, 3]), array([0, 2])]"
      ]
     },
     "execution_count": 88,
     "metadata": {},
     "output_type": "execute_result"
    }
   ],
   "source": [
    "neigh_ind"
   ]
  },
  {
   "cell_type": "code",
   "execution_count": 86,
   "metadata": {},
   "outputs": [
    {
     "data": {
      "text/plain": [
       "array([0, 2])"
      ]
     },
     "execution_count": 86,
     "metadata": {},
     "output_type": "execute_result"
    }
   ],
   "source": [
    "P[index].nonzero()[0]"
   ]
  }
 ],
 "metadata": {
  "kernelspec": {
   "display_name": "Python 3.9.12 ('gnn': conda)",
   "language": "python",
   "name": "python3"
  },
  "language_info": {
   "codemirror_mode": {
    "name": "ipython",
    "version": 3
   },
   "file_extension": ".py",
   "mimetype": "text/x-python",
   "name": "python",
   "nbconvert_exporter": "python",
   "pygments_lexer": "ipython3",
   "version": "3.9.12"
  },
  "orig_nbformat": 4,
  "vscode": {
   "interpreter": {
    "hash": "42fc222dfbda169bc18a654c374e8265fec58846589cd1da63abc2a574b12f52"
   }
  }
 },
 "nbformat": 4,
 "nbformat_minor": 2
}
